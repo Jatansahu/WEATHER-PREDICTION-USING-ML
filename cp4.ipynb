{
  "nbformat": 4,
  "nbformat_minor": 0,
  "metadata": {
    "colab": {
      "provenance": [],
      "authorship_tag": "ABX9TyMH2p/N/nABNZPIPEjWr298",
      "include_colab_link": true
    },
    "kernelspec": {
      "name": "python3",
      "display_name": "Python 3"
    },
    "language_info": {
      "name": "python"
    }
  },
  "cells": [
    {
      "cell_type": "markdown",
      "metadata": {
        "id": "view-in-github",
        "colab_type": "text"
      },
      "source": [
        "<a href=\"https://colab.research.google.com/github/Jatansahu/woc5.0-ml-weather-prediction-case-study-jatan-sahu/blob/main/cp4.ipynb\" target=\"_parent\"><img src=\"https://colab.research.google.com/assets/colab-badge.svg\" alt=\"Open In Colab\"/></a>"
      ]
    },
    {
      "cell_type": "code",
      "execution_count": 3,
      "metadata": {
        "id": "2cd4BZ93cdE4"
      },
      "outputs": [],
      "source": [
        "# checkpoint 4"
      ]
    },
    {
      "cell_type": "code",
      "source": [
        "# This is something and we are doing this shit"
      ],
      "metadata": {
        "id": "68HjluLaciks"
      },
      "execution_count": 4,
      "outputs": []
    },
    {
      "cell_type": "code",
      "source": [
        "a = [2,3,4]\n",
        "print(a)"
      ],
      "metadata": {
        "colab": {
          "base_uri": "https://localhost:8080/"
        },
        "id": "iRqE7D1xcsop",
        "outputId": "e867862b-4acb-4ec8-e267-a514ddaa6d31"
      },
      "execution_count": 5,
      "outputs": [
        {
          "output_type": "stream",
          "name": "stdout",
          "text": [
            "[2, 3, 4]\n"
          ]
        }
      ]
    },
    {
      "cell_type": "code",
      "source": [],
      "metadata": {
        "id": "Y3guzkGVczS4"
      },
      "execution_count": null,
      "outputs": []
    }
  ]
}